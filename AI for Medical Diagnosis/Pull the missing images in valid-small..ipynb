{
 "cells": [
  {
   "cell_type": "markdown",
   "id": "5f2c0100-dc49-442e-b1af-d5aee252f41f",
   "metadata": {},
   "source": [
    "# Pull the missing images in valid-small.csv from the big file"
   ]
  },
  {
   "cell_type": "markdown",
   "id": "eb7d0357-cc70-4716-b7a9-d0b389bf0ded",
   "metadata": {},
   "source": [
    "1. Viewing the Folder Names Inside a Zip File\n",
    "\n",
    "To view the folder names and structure inside a zip file, you can use the zipfile module to list its contents."
   ]
  },
  {
   "cell_type": "markdown",
   "id": "246d874f-c3c2-4f39-bd2f-968bec67a3f3",
   "metadata": {},
   "source": [
    "Explanation\n",
    "\n",
    "\t•\tzip_ref.namelist() returns a list of all file and folder paths inside the zip file.\n",
    "\t•\tThe if item.endswith('/') check ensures that only folders (paths ending with a slash) are included.\n",
    "\t•\tUsing set() removes duplicate folder names."
   ]
  },
  {
   "cell_type": "code",
   "execution_count": 21,
   "id": "36fd1298-00bd-4b95-8332-45c73118b7dc",
   "metadata": {},
   "outputs": [
    {
     "name": "stdout",
     "output_type": "stream",
     "text": [
      "Missing image names (first 3): ['00027623_007.png', '00028214_000.png', '00022764_014.png']\n",
      "len(missing_image_names) = 108\n",
      "\n",
      "Zip contents (first 10): ['ARXIV_V5_CHESTXRAY.pdf', 'BBox_List_2017.csv', 'Data_Entry_2017.csv', 'FAQ_CHESTXRAY.pdf', 'LOG_CHESTXRAY.pdf', 'README_CHESTXRAY.pdf', 'images_001/images/00000001_000.png', 'images_001/images/00000001_001.png', 'images_001/images/00000001_002.png', 'images_001/images/00000002_000.png']\n",
      "\n",
      "Matched image paths (first 10): ['images_001/images/00001005_001.png', 'images_002/images/00001890_001.png', 'images_002/images/00002206_003.png', 'images_002/images/00002274_000.png', 'images_002/images/00002274_002.png', 'images_002/images/00002345_007.png', 'images_002/images/00003098_000.png', 'images_002/images/00003386_000.png', 'images_002/images/00003527_007.png', 'images_002/images/00003585_001.png']\n",
      "len(matched_image_paths) = 108\n"
     ]
    }
   ],
   "source": [
    "import pandas as pd\n",
    "import zipfile\n",
    "\n",
    "# Read the CSV file to get missing image names\n",
    "valid_df = pd.read_csv(\"data/nih/valid-small.csv\")\n",
    "\n",
    "# Create a list of missing image names from the \"Image\" column\n",
    "missing_image_names = [img for img in valid_df[\"Image\"]]\n",
    "\n",
    "# Remove a specific image from the list if needed\n",
    "missing_image_names.remove(\"00008760_004.png\")\n",
    "print(f\"Missing image names (first 3): {missing_image_names[:3]}\")\n",
    "print(f\"{len(missing_image_names) = }\")\n",
    "\n",
    "# Path to the zip file\n",
    "zip_file_path = 'nih_zip_file/archive.zip'\n",
    "\n",
    "# Open the zip file and get its contents\n",
    "with zipfile.ZipFile(zip_file_path, 'r') as zip_ref:\n",
    "    zip_contents = zip_ref.namelist()\n",
    "    print(f\"\\nZip contents (first 10): {zip_contents[:10]}\")\n",
    "\n",
    "    # Create a list of full path names in zip_contents that match the missing image names\n",
    "    # Check if any of the missing image names are present in the zip file paths\n",
    "    matched_image_paths = [path for path in zip_contents if any(img in path for img in missing_image_names)]\n",
    "\n",
    "# Print the matched image paths\n",
    "print(f\"\\nMatched image paths (first 10): {matched_image_paths[:10]}\")\n",
    "print(f\"{len(matched_image_paths) = }\")"
   ]
  },
  {
   "cell_type": "code",
   "execution_count": 22,
   "id": "3f669f58-c125-4713-a2b4-495e65eb1fa2",
   "metadata": {},
   "outputs": [
    {
     "name": "stdout",
     "output_type": "stream",
     "text": [
      "Extracted 108 images to data/nih/images-small/.\n"
     ]
    }
   ],
   "source": [
    "import zipfile\n",
    "import os\n",
    "\n",
    "# Define the path to the zip file and the destination folder\n",
    "zip_file_path = 'nih_zip_file/archive.zip'\n",
    "output_folder = 'data/nih/images-small/'\n",
    "\n",
    "with zipfile.ZipFile(zip_file_path, 'r') as zip_ref:\n",
    "    for image_path in matched_image_paths:\n",
    "        # Extract each image to the specified folder, removing the original structure\n",
    "        destination_path = os.path.join(output_folder, os.path.basename(image_path))\n",
    "        \n",
    "        # Write the image file to the destination path\n",
    "        with zip_ref.open(image_path) as source, open(destination_path, \"wb\") as target:\n",
    "            target.write(source.read())\n",
    "\n",
    "print(f\"Extracted {len(matched_image_paths)} images to {output_folder}.\")"
   ]
  }
 ],
 "metadata": {
  "kernelspec": {
   "display_name": "Python 3 (ipykernel)",
   "language": "python",
   "name": "python3"
  },
  "language_info": {
   "codemirror_mode": {
    "name": "ipython",
    "version": 3
   },
   "file_extension": ".py",
   "mimetype": "text/x-python",
   "name": "python",
   "nbconvert_exporter": "python",
   "pygments_lexer": "ipython3",
   "version": "3.12.3"
  }
 },
 "nbformat": 4,
 "nbformat_minor": 5
}
